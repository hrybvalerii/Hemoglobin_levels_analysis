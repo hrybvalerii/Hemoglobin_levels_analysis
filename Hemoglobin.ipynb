{
  "nbformat": 4,
  "nbformat_minor": 0,
  "metadata": {
    "colab": {
      "provenance": []
    },
    "kernelspec": {
      "name": "python3",
      "display_name": "Python 3"
    },
    "language_info": {
      "name": "python"
    }
  },
  "cells": [
    {
      "cell_type": "markdown",
      "source": [
        "The objective of this analysis is to determine if there is a statistically significant difference in hemoglobin concentration between males and females using given dataset."
      ],
      "metadata": {
        "id": "n9O9WgYy5C7b"
      }
    },
    {
      "cell_type": "code",
      "execution_count": 11,
      "metadata": {
        "id": "3-vjJj56dqY0"
      },
      "outputs": [],
      "source": [
        "import pandas as pd\n",
        "import numpy as np \n",
        "from scipy import stats\n",
        "import matplotlib as plt"
      ]
    },
    {
      "cell_type": "code",
      "source": [
        "hgb_df = pd.read_csv('Hgb.csv')\n",
        "hgb_df.set_index('Patient ID', inplace=True)\n",
        "display(hgb_df)\n",
        "# some values contain string characters which need to be removed\n",
        "hgb_df['Hemoglobin (g/100 ml)'] = hgb_df['Hemoglobin (g/100 ml)'].replace('\\s*[A-z/ ]*', '', regex=True).astype(float)\n",
        "display(hgb_df['Hemoglobin (g/100 ml)'])"
      ],
      "metadata": {
        "colab": {
          "base_uri": "https://localhost:8080/",
          "height": 1000
        },
        "id": "wEosebpFeFAG",
        "outputId": "81f521f4-55a7-40ea-edae-3db1756163d1"
      },
      "execution_count": 12,
      "outputs": [
        {
          "output_type": "display_data",
          "data": {
            "text/plain": [
              "            Gender Hemoglobin (g/100 ml)\n",
              "Patient ID                              \n",
              "1           Female                  11.2\n",
              "2           Female                  11.5\n",
              "3           Female                   9.9\n",
              "4           Female                  12.1\n",
              "5           Female                  14.2\n",
              "6             Male                  12.9\n",
              "7           Female                   7.2\n",
              "8           Female                  12.3\n",
              "9           Female                  12.7\n",
              "10            Male                  17.1\n",
              "11            Male                  14.8\n",
              "12            Male         16.8 g/100 ml\n",
              "13          Female         14.5 g/100 ml\n",
              "14            Male         20.5 g/100 ml\n",
              "15            Male                  15.7\n",
              "16            Male                  12.8\n",
              "17            Male                  16.9\n",
              "18            Male                  15.6\n",
              "19            Male                  13.7\n",
              "20            Male                  16.1\n",
              "21          Female                  11.4\n",
              "22          Female                  14.2\n",
              "23          Female                  11.4\n",
              "24            Male                  10.3\n",
              "25            Male                  17.2\n",
              "26          Female                  12.6\n",
              "27            Male                  16.3\n",
              "28          Female                  11.7\n",
              "29          Female                  11.1\n",
              "30          Female                  10.7"
            ],
            "text/html": [
              "\n",
              "  <div id=\"df-700a165a-f86b-43f7-bb85-bd48738981c0\">\n",
              "    <div class=\"colab-df-container\">\n",
              "      <div>\n",
              "<style scoped>\n",
              "    .dataframe tbody tr th:only-of-type {\n",
              "        vertical-align: middle;\n",
              "    }\n",
              "\n",
              "    .dataframe tbody tr th {\n",
              "        vertical-align: top;\n",
              "    }\n",
              "\n",
              "    .dataframe thead th {\n",
              "        text-align: right;\n",
              "    }\n",
              "</style>\n",
              "<table border=\"1\" class=\"dataframe\">\n",
              "  <thead>\n",
              "    <tr style=\"text-align: right;\">\n",
              "      <th></th>\n",
              "      <th>Gender</th>\n",
              "      <th>Hemoglobin (g/100 ml)</th>\n",
              "    </tr>\n",
              "    <tr>\n",
              "      <th>Patient ID</th>\n",
              "      <th></th>\n",
              "      <th></th>\n",
              "    </tr>\n",
              "  </thead>\n",
              "  <tbody>\n",
              "    <tr>\n",
              "      <th>1</th>\n",
              "      <td>Female</td>\n",
              "      <td>11.2</td>\n",
              "    </tr>\n",
              "    <tr>\n",
              "      <th>2</th>\n",
              "      <td>Female</td>\n",
              "      <td>11.5</td>\n",
              "    </tr>\n",
              "    <tr>\n",
              "      <th>3</th>\n",
              "      <td>Female</td>\n",
              "      <td>9.9</td>\n",
              "    </tr>\n",
              "    <tr>\n",
              "      <th>4</th>\n",
              "      <td>Female</td>\n",
              "      <td>12.1</td>\n",
              "    </tr>\n",
              "    <tr>\n",
              "      <th>5</th>\n",
              "      <td>Female</td>\n",
              "      <td>14.2</td>\n",
              "    </tr>\n",
              "    <tr>\n",
              "      <th>6</th>\n",
              "      <td>Male</td>\n",
              "      <td>12.9</td>\n",
              "    </tr>\n",
              "    <tr>\n",
              "      <th>7</th>\n",
              "      <td>Female</td>\n",
              "      <td>7.2</td>\n",
              "    </tr>\n",
              "    <tr>\n",
              "      <th>8</th>\n",
              "      <td>Female</td>\n",
              "      <td>12.3</td>\n",
              "    </tr>\n",
              "    <tr>\n",
              "      <th>9</th>\n",
              "      <td>Female</td>\n",
              "      <td>12.7</td>\n",
              "    </tr>\n",
              "    <tr>\n",
              "      <th>10</th>\n",
              "      <td>Male</td>\n",
              "      <td>17.1</td>\n",
              "    </tr>\n",
              "    <tr>\n",
              "      <th>11</th>\n",
              "      <td>Male</td>\n",
              "      <td>14.8</td>\n",
              "    </tr>\n",
              "    <tr>\n",
              "      <th>12</th>\n",
              "      <td>Male</td>\n",
              "      <td>16.8 g/100 ml</td>\n",
              "    </tr>\n",
              "    <tr>\n",
              "      <th>13</th>\n",
              "      <td>Female</td>\n",
              "      <td>14.5 g/100 ml</td>\n",
              "    </tr>\n",
              "    <tr>\n",
              "      <th>14</th>\n",
              "      <td>Male</td>\n",
              "      <td>20.5 g/100 ml</td>\n",
              "    </tr>\n",
              "    <tr>\n",
              "      <th>15</th>\n",
              "      <td>Male</td>\n",
              "      <td>15.7</td>\n",
              "    </tr>\n",
              "    <tr>\n",
              "      <th>16</th>\n",
              "      <td>Male</td>\n",
              "      <td>12.8</td>\n",
              "    </tr>\n",
              "    <tr>\n",
              "      <th>17</th>\n",
              "      <td>Male</td>\n",
              "      <td>16.9</td>\n",
              "    </tr>\n",
              "    <tr>\n",
              "      <th>18</th>\n",
              "      <td>Male</td>\n",
              "      <td>15.6</td>\n",
              "    </tr>\n",
              "    <tr>\n",
              "      <th>19</th>\n",
              "      <td>Male</td>\n",
              "      <td>13.7</td>\n",
              "    </tr>\n",
              "    <tr>\n",
              "      <th>20</th>\n",
              "      <td>Male</td>\n",
              "      <td>16.1</td>\n",
              "    </tr>\n",
              "    <tr>\n",
              "      <th>21</th>\n",
              "      <td>Female</td>\n",
              "      <td>11.4</td>\n",
              "    </tr>\n",
              "    <tr>\n",
              "      <th>22</th>\n",
              "      <td>Female</td>\n",
              "      <td>14.2</td>\n",
              "    </tr>\n",
              "    <tr>\n",
              "      <th>23</th>\n",
              "      <td>Female</td>\n",
              "      <td>11.4</td>\n",
              "    </tr>\n",
              "    <tr>\n",
              "      <th>24</th>\n",
              "      <td>Male</td>\n",
              "      <td>10.3</td>\n",
              "    </tr>\n",
              "    <tr>\n",
              "      <th>25</th>\n",
              "      <td>Male</td>\n",
              "      <td>17.2</td>\n",
              "    </tr>\n",
              "    <tr>\n",
              "      <th>26</th>\n",
              "      <td>Female</td>\n",
              "      <td>12.6</td>\n",
              "    </tr>\n",
              "    <tr>\n",
              "      <th>27</th>\n",
              "      <td>Male</td>\n",
              "      <td>16.3</td>\n",
              "    </tr>\n",
              "    <tr>\n",
              "      <th>28</th>\n",
              "      <td>Female</td>\n",
              "      <td>11.7</td>\n",
              "    </tr>\n",
              "    <tr>\n",
              "      <th>29</th>\n",
              "      <td>Female</td>\n",
              "      <td>11.1</td>\n",
              "    </tr>\n",
              "    <tr>\n",
              "      <th>30</th>\n",
              "      <td>Female</td>\n",
              "      <td>10.7</td>\n",
              "    </tr>\n",
              "  </tbody>\n",
              "</table>\n",
              "</div>\n",
              "      <button class=\"colab-df-convert\" onclick=\"convertToInteractive('df-700a165a-f86b-43f7-bb85-bd48738981c0')\"\n",
              "              title=\"Convert this dataframe to an interactive table.\"\n",
              "              style=\"display:none;\">\n",
              "        \n",
              "  <svg xmlns=\"http://www.w3.org/2000/svg\" height=\"24px\"viewBox=\"0 0 24 24\"\n",
              "       width=\"24px\">\n",
              "    <path d=\"M0 0h24v24H0V0z\" fill=\"none\"/>\n",
              "    <path d=\"M18.56 5.44l.94 2.06.94-2.06 2.06-.94-2.06-.94-.94-2.06-.94 2.06-2.06.94zm-11 1L8.5 8.5l.94-2.06 2.06-.94-2.06-.94L8.5 2.5l-.94 2.06-2.06.94zm10 10l.94 2.06.94-2.06 2.06-.94-2.06-.94-.94-2.06-.94 2.06-2.06.94z\"/><path d=\"M17.41 7.96l-1.37-1.37c-.4-.4-.92-.59-1.43-.59-.52 0-1.04.2-1.43.59L10.3 9.45l-7.72 7.72c-.78.78-.78 2.05 0 2.83L4 21.41c.39.39.9.59 1.41.59.51 0 1.02-.2 1.41-.59l7.78-7.78 2.81-2.81c.8-.78.8-2.07 0-2.86zM5.41 20L4 18.59l7.72-7.72 1.47 1.35L5.41 20z\"/>\n",
              "  </svg>\n",
              "      </button>\n",
              "      \n",
              "  <style>\n",
              "    .colab-df-container {\n",
              "      display:flex;\n",
              "      flex-wrap:wrap;\n",
              "      gap: 12px;\n",
              "    }\n",
              "\n",
              "    .colab-df-convert {\n",
              "      background-color: #E8F0FE;\n",
              "      border: none;\n",
              "      border-radius: 50%;\n",
              "      cursor: pointer;\n",
              "      display: none;\n",
              "      fill: #1967D2;\n",
              "      height: 32px;\n",
              "      padding: 0 0 0 0;\n",
              "      width: 32px;\n",
              "    }\n",
              "\n",
              "    .colab-df-convert:hover {\n",
              "      background-color: #E2EBFA;\n",
              "      box-shadow: 0px 1px 2px rgba(60, 64, 67, 0.3), 0px 1px 3px 1px rgba(60, 64, 67, 0.15);\n",
              "      fill: #174EA6;\n",
              "    }\n",
              "\n",
              "    [theme=dark] .colab-df-convert {\n",
              "      background-color: #3B4455;\n",
              "      fill: #D2E3FC;\n",
              "    }\n",
              "\n",
              "    [theme=dark] .colab-df-convert:hover {\n",
              "      background-color: #434B5C;\n",
              "      box-shadow: 0px 1px 3px 1px rgba(0, 0, 0, 0.15);\n",
              "      filter: drop-shadow(0px 1px 2px rgba(0, 0, 0, 0.3));\n",
              "      fill: #FFFFFF;\n",
              "    }\n",
              "  </style>\n",
              "\n",
              "      <script>\n",
              "        const buttonEl =\n",
              "          document.querySelector('#df-700a165a-f86b-43f7-bb85-bd48738981c0 button.colab-df-convert');\n",
              "        buttonEl.style.display =\n",
              "          google.colab.kernel.accessAllowed ? 'block' : 'none';\n",
              "\n",
              "        async function convertToInteractive(key) {\n",
              "          const element = document.querySelector('#df-700a165a-f86b-43f7-bb85-bd48738981c0');\n",
              "          const dataTable =\n",
              "            await google.colab.kernel.invokeFunction('convertToInteractive',\n",
              "                                                     [key], {});\n",
              "          if (!dataTable) return;\n",
              "\n",
              "          const docLinkHtml = 'Like what you see? Visit the ' +\n",
              "            '<a target=\"_blank\" href=https://colab.research.google.com/notebooks/data_table.ipynb>data table notebook</a>'\n",
              "            + ' to learn more about interactive tables.';\n",
              "          element.innerHTML = '';\n",
              "          dataTable['output_type'] = 'display_data';\n",
              "          await google.colab.output.renderOutput(dataTable, element);\n",
              "          const docLink = document.createElement('div');\n",
              "          docLink.innerHTML = docLinkHtml;\n",
              "          element.appendChild(docLink);\n",
              "        }\n",
              "      </script>\n",
              "    </div>\n",
              "  </div>\n",
              "  "
            ]
          },
          "metadata": {}
        },
        {
          "output_type": "display_data",
          "data": {
            "text/plain": [
              "Patient ID\n",
              "1     11.20\n",
              "2     11.50\n",
              "3      9.90\n",
              "4     12.10\n",
              "5     14.20\n",
              "6     12.90\n",
              "7      7.20\n",
              "8     12.30\n",
              "9     12.70\n",
              "10    17.10\n",
              "11    14.80\n",
              "12    16.81\n",
              "13    14.51\n",
              "14    20.51\n",
              "15    15.70\n",
              "16    12.80\n",
              "17    16.90\n",
              "18    15.60\n",
              "19    13.70\n",
              "20    16.10\n",
              "21    11.40\n",
              "22    14.20\n",
              "23    11.40\n",
              "24    10.30\n",
              "25    17.20\n",
              "26    12.60\n",
              "27    16.30\n",
              "28    11.70\n",
              "29    11.10\n",
              "30    10.70\n",
              "Name: Hemoglobin (g/100 ml), dtype: float64"
            ]
          },
          "metadata": {}
        }
      ]
    },
    {
      "cell_type": "code",
      "source": [
        "# get the values of hemoglobin concentration in females/males\n",
        "female_hb = hgb_df[hgb_df['Gender'] == 'Female']['Hemoglobin (g/100 ml)']\n",
        "male_hb = hgb_df[hgb_df['Gender'] == 'Male']['Hemoglobin (g/100 ml)']\n",
        "print(f'Descriptive statistics for female group:\\n{female_hb.describe()}', end='\\n\\n')\n",
        "print(f'Descriptive statistics for male group:\\n{male_hb.describe()}')"
      ],
      "metadata": {
        "colab": {
          "base_uri": "https://localhost:8080/"
        },
        "id": "nKNDA2w0178q",
        "outputId": "41b4cad3-7bba-433d-be63-34a9c56c0766"
      },
      "execution_count": 13,
      "outputs": [
        {
          "output_type": "stream",
          "name": "stdout",
          "text": [
            "Descriptive statistics for female group:\n",
            "count    16.000000\n",
            "mean     11.794375\n",
            "std       1.787057\n",
            "min       7.200000\n",
            "25%      11.175000\n",
            "50%      11.600000\n",
            "75%      12.625000\n",
            "max      14.510000\n",
            "Name: Hemoglobin (g/100 ml), dtype: float64\n",
            "\n",
            "Descriptive statistics for male group:\n",
            "count    14.000000\n",
            "mean     15.480000\n",
            "std       2.482099\n",
            "min      10.300000\n",
            "25%      13.975000\n",
            "50%      15.900000\n",
            "75%      16.877500\n",
            "max      20.510000\n",
            "Name: Hemoglobin (g/100 ml), dtype: float64\n"
          ]
        }
      ]
    },
    {
      "cell_type": "code",
      "source": [
        "plt.pyplot.boxplot([female_hb, male_hb])\n",
        "plt.pyplot.xticks([1, 2], ['Female', 'Male'])\n",
        "plt.pyplot.xlabel('Gender')\n",
        "plt.pyplot.ylabel('Hemoglobin Level(g/100 ml)')\n",
        "plt.pyplot.show()"
      ],
      "metadata": {
        "colab": {
          "base_uri": "https://localhost:8080/",
          "height": 449
        },
        "id": "L2OG7CaTV8nb",
        "outputId": "37b074cc-856d-4a4d-8c48-b3bcdc8fa225"
      },
      "execution_count": 15,
      "outputs": [
        {
          "output_type": "display_data",
          "data": {
            "text/plain": [
              "<Figure size 640x480 with 1 Axes>"
            ],
            "image/png": "[encoded data removed]"
          },
          "metadata": {}
        }
      ]
    },
    {
      "cell_type": "code",
      "source": [
        "# Now let`s conduct Shapiro-Wilk normality test for both groups\n",
        "for group, frame in hgb_df.groupby('Gender'):\n",
        "  pvalue = stats.shapiro(frame['Hemoglobin (g/100 ml)'])[1]\n",
        "  if pvalue > 0.05:\n",
        "    print(f'Can`t reject normality for {group} group.')\n",
        "  else:\n",
        "    print(f'Data for the {group} group does not follow a normal distribution')\n"
      ],
      "metadata": {
        "colab": {
          "base_uri": "https://localhost:8080/"
        },
        "id": "6Q-x3SxpgDsW",
        "outputId": "dfbae651-62c2-4a9e-fb36-dbd8d356454a"
      },
      "execution_count": 16,
      "outputs": [
        {
          "output_type": "stream",
          "name": "stdout",
          "text": [
            "Can`t reject normality for Female group.\n",
            "Can`t reject normality for Male group.\n"
          ]
        }
      ]
    },
    {
      "cell_type": "markdown",
      "source": [
        "Since data in both groups are normaly distributed we can use parametric tests for further analysis.\n",
        "Now we can use levene's test for equality of variances."
      ],
      "metadata": {
        "id": "6-qGtCZTq709"
      }
    },
    {
      "cell_type": "code",
      "source": [
        "p_value = stats.levene(female_hb, male_hb)[1]\n",
        "if p_value > 0.05:\n",
        "  print('There is no significant difference in variances between the compared groups.')\n",
        "else:\n",
        "  print('There is a significant difference in variances between the compared groups.')\n"
      ],
      "metadata": {
        "colab": {
          "base_uri": "https://localhost:8080/"
        },
        "id": "qyvwGxQcrfFx",
        "outputId": "e71cbfdb-9dbb-419c-e53c-16dbf80da623"
      },
      "execution_count": 18,
      "outputs": [
        {
          "output_type": "stream",
          "name": "stdout",
          "text": [
            "There is no significant difference in variances between the compared groups.\n"
          ]
        }
      ]
    },
    {
      "cell_type": "markdown",
      "source": [
        "Then we can use two sample t-test (samples are independent)."
      ],
      "metadata": {
        "id": "YkQaNwBj4JDY"
      }
    },
    {
      "cell_type": "code",
      "source": [
        "ttest_p_value = stats.ttest_ind(male_hb, female_hb, equal_var=True)[1]\n",
        "print(ttest_p_value)"
      ],
      "metadata": {
        "colab": {
          "base_uri": "https://localhost:8080/"
        },
        "id": "rrjog3mK4G-4",
        "outputId": "b2954f8b-2cd8-40c9-fbd2-44f8407cf5f0"
      },
      "execution_count": 19,
      "outputs": [
        {
          "output_type": "stream",
          "name": "stdout",
          "text": [
            "6.120640841823869e-05\n"
          ]
        }
      ]
    },
    {
      "cell_type": "markdown",
      "source": [
        "P-value is far less than 0.05 which indicates that there is a significant difference between the means of the compared groups. Therefore we can conclude that hemoglobin concentration in men is statistically significantly higher than in women."
      ],
      "metadata": {
        "id": "jxXvMzim9NzX"
      }
    }
  ]
}